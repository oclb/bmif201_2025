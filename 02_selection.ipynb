{
 "cells": [
  {
   "cell_type": "markdown",
   "id": "7d0f977745ebf497",
   "metadata": {
    "collapsed": false
   },
   "source": [
    "<h2>BMIF201 Lecture 2 in-class problem set instructions</h2>\n",
    "\n",
    "This worksheet is intended to be completed in assigned groups of 2-3 in class. All members of each group should type their own solutions, but the solutions can be exactly identical. Feel free to ask other groups, the TAs, or the professor for assistance. Your homework for this unit will build upon the work that you do in these worksheets."
   ]
  },
  {
   "cell_type": "markdown",
   "id": "1c1e3b97",
   "metadata": {},
   "source": [
    "<h5>Problem 1</h5>\n",
    "\n",
    "Fill in the item marked `# TODO` in the `next_generation` function below. Verify that the assertion passes."
   ]
  },
  {
   "cell_type": "code",
   "execution_count": null,
   "id": "cd4568ccc22c34c5",
   "metadata": {
    "ExecuteTime": {
     "end_time": "2024-10-02T09:29:07.882724Z",
     "start_time": "2024-10-02T09:29:06.026735Z"
    },
    "collapsed": false
   },
   "outputs": [],
   "source": [
    "import numpy as np\n",
    "\n",
    "class WrightFisher:\n",
    "    mu: float # symmetric mutation rate, for every site\n",
    "    N: int # number of haplotypes is 2N\n",
    "    s: float # selection coefficient, for every site\n",
    "\n",
    "    # This is the function that is called when you write: model = WrightFisher(...)\n",
    "    def __init__(self, mu: float, N: int, s: float):\n",
    "        self.mu = mu\n",
    "        self.N = N\n",
    "        self.s = s\n",
    "\n",
    "    def next_generation(self, allele_frequencies: np.ndarray) -> np.ndarray:\n",
    "        \"\"\"\n",
    "        :param allele_frequencies: array of allele frequencies in generation n\n",
    "        :return: array of allele frequencies in generation n+1\n",
    "        \"\"\"\n",
    "\n",
    "        # TODO: Compute the expected allele frequency in the following generation \n",
    "        # due to the effect of selection\n",
    "        expected_frequency = ...\n",
    "        \n",
    "        assert expected_frequency.shape == allele_frequencies.shape\n",
    "        assert np.all(expected_frequency >= 0)\n",
    "        assert np.all(expected_frequency <= 1)\n",
    "\n",
    "        # Drift + mutation\n",
    "        num_carriers_before = np.random.binomial(2*self.N, expected_frequency)\n",
    "        num_a_to_A = np.random.binomial(num_carriers_before, self.mu)\n",
    "        num_A_to_a = np.random.binomial(2*self.N-num_carriers_before, self.mu)\n",
    "        num_carriers = num_carriers_before + num_A_to_a - num_a_to_A\n",
    "\n",
    "        assert num_carriers_before.shape == allele_frequencies.shape\n",
    "        assert num_carriers.shape == allele_frequencies.shape\n",
    "        assert np.all(num_carriers >= 0)\n",
    "        assert np.all(num_carriers <= 2 * self.N)\n",
    "\n",
    "        return num_carriers / (2 * self.N)\n",
    "\n",
    "    def until_fixation(self, initial_allele_frequencies: np.ndarray) -> tuple[np.ndarray, np.ndarray]:\n",
    "        \"\"\"\n",
    "        :param initial_allele_frequencies: initial state\n",
    "        :return: final allele frequencies (0/1-valued), time to fixation or loss\n",
    "        \"\"\"\n",
    "\n",
    "        allele_frequencies = initial_allele_frequencies.copy()  # avoids modifying input array\n",
    "        variants = np.where(allele_frequencies * (1-allele_frequencies) > 0)[0]  # sites not yet fixed or lost\n",
    "        time_to_fixation_or_loss = np.zeros_like(allele_frequencies, dtype=int)\n",
    "\n",
    "        generations = 0\n",
    "        while len(variants) > 0:\n",
    "            generations += 1\n",
    "            allele_frequencies[variants] = self.next_generation(allele_frequencies[variants])\n",
    "            newly_fixed_variants = (allele_frequencies[variants] * (1-allele_frequencies[variants]) == 0)\n",
    "            time_to_fixation_or_loss[variants[newly_fixed_variants]] = generations\n",
    "            variants = variants[~newly_fixed_variants]\n",
    "\n",
    "        assert np.all(allele_frequencies * (1-allele_frequencies) == 0)\n",
    "\n",
    "        return allele_frequencies, time_to_fixation_or_loss\n"
   ]
  },
  {
   "cell_type": "code",
   "execution_count": null,
   "id": "f0376e7b97dcc7e",
   "metadata": {
    "ExecuteTime": {
     "end_time": "2024-10-02T09:29:10.299880Z",
     "start_time": "2024-10-02T09:29:08.735029Z"
    },
    "collapsed": false
   },
   "outputs": [],
   "source": [
    "num_sites = 5\n",
    "mutation_rate = 1e-1\n",
    "selection_coefficient = 1e-1\n",
    "population_size = 100\n",
    "model = WrightFisher(mutation_rate, population_size, selection_coefficient)\n",
    "generation_zero_frequency = np.array([0.1, 0.2, 0.3, 0.4, 0.5]) \n",
    "\n",
    "np.random.seed(123)\n",
    "generation_one_frequency = model.next_generation(generation_zero_frequency)\n",
    "assert np.all(generation_one_frequency == np.array([0.2, 0.315, 0.375, 0.465, 0.545]))"
   ]
  },
  {
   "cell_type": "markdown",
   "id": "b2451301f7878a38",
   "metadata": {
    "collapsed": false
   },
   "source": [
    "<h5>Problem 2</h5>\n",
    "\n",
    "Recall that in lecture, we derived that the fixation probability of a beneficial allele with selection coefficient s, beginning at an allele frequency of $1/2N$, is approximately $2s$. Verify that this is approximately true when $1/N << 2s << 1$. Discuss with your partner: what happens when $2s < 1/N$, and why? What happens when $2s>1$, and why? "
   ]
  },
  {
   "cell_type": "code",
   "execution_count": null,
   "id": "645af741c30bfe66",
   "metadata": {
    "ExecuteTime": {
     "end_time": "2024-10-02T09:34:43.768676Z",
     "start_time": "2024-10-02T09:34:43.389571Z"
    },
    "collapsed": false
   },
   "outputs": [],
   "source": [
    "num_sites = 10_000\n",
    "mutation_rate = 0\n",
    "population_size = 100\n",
    "selection_coefficient_array = ...\n",
    "fixation_probability = [] \n",
    "for s in selection_coefficient_array:\n",
    "    model = ...\n",
    "    ...\n",
    "    fixation_probability.append(...)"
   ]
  },
  {
   "cell_type": "code",
   "execution_count": null,
   "id": "53ce6b97cd3d7cf9",
   "metadata": {
    "ExecuteTime": {
     "end_time": "2024-10-02T09:36:19.088690Z",
     "start_time": "2024-10-02T09:36:18.877690Z"
    }
   },
   "outputs": [],
   "source": [
    "import matplotlib.pyplot as plt\n",
    "plt.figure(figsize=(10, 6))\n",
    "plt.plot(selection_coefficient_array, [2 * s for s in selection_coefficient_array])\n",
    "plt.scatter(selection_coefficient_array, fixation_probability, color='red')\n",
    "plt.axvline(x = 1 / (2 * population_size), color = 'black', label = '1/2N')\n",
    "plt.axhline(y = 1, color = 'black', label = '1/2N')\n",
    "\n",
    "plt.xlabel('Selection coefficient', fontsize=14)\n",
    "plt.ylabel('Fixation probability', fontsize=14)\n",
    "plt.legend([\"2s\", \"u\", \"s=1/2N\", \"u=1\"])\n",
    "plt.xscale('log')\n",
    "plt.yscale('log')\n",
    "\n",
    "plt.show()"
   ]
  },
  {
   "cell_type": "markdown",
   "id": "9a5f8107d73f83ec",
   "metadata": {},
   "source": [
    "<h5>Problem 3</h5>\n",
    "\n",
    "Recall that $s_{het}$ is the selection coefficient of protein truncating variants (PTVs) in a gene.\n",
    "\n",
    "Suppose that you have genetic data for a population of $N=50$ individuals. There are $L=100$ sites at which a mutation could create a PTV (possibly, not all of which are observed in your data), each of which has a mutation rate of $\\mu=10^{-3}$. All PTVs in the gene have the same selection coefficient, $s_{het}$, which is unknown. Using simulations, you will come up with a test for constraint.\n",
    "\n",
    "a. Decide with your partner: what is an easily-computed statistic such that you expect it to be different when $s_{het}<<0$ vs. when $s_{het}=0$? (Multiple answers are possible, but I recommend computing something simple; the point is not to come up with something intuitive, not necessarily optimal). \n",
    "\n",
    "b. Simulate the null distribution for your statistic, with $s=0$. Plot a histogram of this distribution.\n",
    "\n",
    "c. Simulate the non-null distribution for your statistic for a few values of $s<0$. For each non-null value of your statistic $X$, let $k_{smaller}$ be the number of null simulations whose statistic was less than or equal to $X$ out of $k_{total}$ in total. Compute the empirical p-value using the following formula:\n",
    "\n",
    "$$\\text{p-value} = \\frac{1+k_{smaller}}{1+k_{total}}.$$\n",
    "\n",
    "Verify that the assertion passes. Discuss this formula with your partner. Why is there a `1` in the numerator and denominator?\n",
    "\n",
    "d. Plot the median p-value for each value of $s$. \n",
    "\n",
    "e. Discuss with your partner: what is one factor (besides $s$) that influences the statistical power of your test? What do you expect to happen when you vary it? Vary this factor and test your intuition.\n"
   ]
  },
  {
   "cell_type": "code",
   "execution_count": null,
   "id": "dc1a4e5efd4c321c",
   "metadata": {
    "ExecuteTime": {
     "end_time": "2024-10-02T09:38:32.509163Z",
     "start_time": "2024-10-02T09:38:32.506292Z"
    }
   },
   "outputs": [],
   "source": [
    "def simulate_gene(model: WrightFisher, num_sites: int) -> np.ndarray:\n",
    "    \"\"\"\"\n",
    "    Runs Wright-Fisher for N generations and returns final allele frequencies\n",
    "    \"\"\"\n",
    "    num_generations = model.N\n",
    "    af = np.ones(num_sites) / population_size\n",
    "    for _ in range(num_generations):\n",
    "        af = model.next_generation(af)\n",
    "    return af\n",
    "\n",
    "def compute_statistic(allele_frequency: np.ndarray) -> float:\n",
    "    \"\"\"\n",
    "    Computes your test statistic for a single gene\n",
    "\n",
    "    Hint: this can rely on allele frequency only, and not on\n",
    "    mutation rates, because mutation rates will be the same in the null\n",
    "    simulations that you use to get the empirical distribution.\n",
    "    \"\"\"\n",
    "    # TODO\n",
    "    ...\n",
    "\n",
    "def sample_statistics(model: WrightFisher, num_sites: int, num_genes: int) -> list[float]:\n",
    "    \"\"\"\n",
    "    Samples test statistics under the specified model, which can be either null or non-null\n",
    "    \"\"\"\n",
    "    test_statistics = []\n",
    "    for _ in range(num_genes):\n",
    "        allele_frequency = simulate_gene(model, num_sites)\n",
    "        test_statistics.append(compute_statistic(allele_frequency))\n",
    "    return test_statistics"
   ]
  },
  {
   "cell_type": "code",
   "execution_count": null,
   "id": "b0471a2a",
   "metadata": {},
   "outputs": [],
   "source": [
    "# Problem 2b\n",
    "\n",
    "mu = 0.001\n",
    "N = 50\n",
    "null_model = ... # TODO\n",
    "\n",
    "num_sites = 100\n",
    "num_genes = 1000\n",
    "null_constraint_statistics = ... # TODO\n",
    "\n",
    "plt.figure(figsize=(10, 6))\n",
    "plt.hist(null_constraint_statistics, bins=20, alpha=0.7, color='blue', edgecolor='black')\n",
    "pass"
   ]
  },
  {
   "cell_type": "code",
   "execution_count": null,
   "id": "5c4d3698f174ace2",
   "metadata": {
    "ExecuteTime": {
     "end_time": "2024-10-02T09:39:16.639278Z",
     "start_time": "2024-10-02T09:39:14.356785Z"
    }
   },
   "outputs": [],
   "source": [
    "# Problem 2c\n",
    "\n",
    "def empirical_pvalue(null_distribution: np.ndarray, observed_statistic: float) -> float:\n",
    "    \"\"\"Computes the p-value for one gene\"\"\"\n",
    "    # TODO\n",
    "    ...\n",
    " \n",
    "p_values = [empirical_pvalue(np.arange(.01,1,.01), x) for x in np.arange(0,1,.1)]\n",
    "assert np.allclose(p_values, np.arange(.01, 1, .1))"
   ]
  },
  {
   "cell_type": "code",
   "execution_count": null,
   "id": "24edabcb",
   "metadata": {},
   "outputs": [],
   "source": [
    "# Problem 2d\n",
    "\n",
    "selection_coefficient_array = ... # TODO\n",
    "\n",
    "median_pvals = []\n",
    "num_genes = 100\n",
    "for s in selection_coefficient_array:\n",
    "    model = ... # TODO\n",
    "    nonnull_statistics = ... # TODO\n",
    "    p_values = ... # TODO\n",
    "    median_pvals.append(np.median(p_values))\n",
    "\n",
    "plt.figure(figsize=(10, 6))\n",
    "plt.plot(selection_coefficient_array, median_pvals)\n",
    "plt.xlabel('Selection coefficient', fontsize=14)\n",
    "plt.ylabel('Median p-value', fontsize=14)\n",
    "plt.show()"
   ]
  },
  {
   "cell_type": "code",
   "execution_count": null,
   "id": "c8f413ae",
   "metadata": {},
   "outputs": [],
   "source": [
    "# Problem 2e\n",
    "\n",
    "selection_coefficient = -.02 # Fix this, vary something else\n",
    "median_pvals = []\n",
    "... # TODO"
   ]
  },
  {
   "cell_type": "markdown",
   "id": "dbd654d33d806dab",
   "metadata": {},
   "source": [
    "<h3>Optional problems</h3>\n",
    "\n",
    "If you finish the problems above early, please work on the following problem with your partner. \n",
    "\n",
    "<h5>Problem 3</h5>\n",
    "\n",
    "We learned in lecture that the fixation time of a beneficial allele is much smaller than that of a neutral allele. Find the average fixation time for a few positive values of $s$. Next, find the fixation time of a deleterious allele having the same absolute selection coefficient: what do you notice? Discuss with your partner and try to get intuition for this phenomenon."
   ]
  },
  {
   "cell_type": "code",
   "execution_count": null,
   "id": "f382529bd1c426cb",
   "metadata": {
    "ExecuteTime": {
     "end_time": "2024-10-02T09:51:28.925228Z",
     "start_time": "2024-10-02T09:48:52.679608Z"
    }
   },
   "outputs": [],
   "source": [
    "num_sites = 10_000 # Start with a small number and make it larger once you get everything working \n",
    "mutation_rate = 0\n",
    "selection_coefficient_array = ... # TODO\n",
    "population_size = 50\n",
    "fixation_time = []\n",
    "for selection_coefficient in selection_coefficient_array:\n",
    "    model = ... # TODO\n",
    "    ... # TODO\n",
    "    fixation_time.append(...) # TODO\n",
    "\n",
    "plt.figure(figsize=(10, 6))\n",
    "plt.plot(selection_coefficient_array, fixation_time)\n",
    "plt.xlabel('Selection coefficient', fontsize=14)\n",
    "plt.ylabel('Mean fixation time', fontsize=14)\n",
    "plt.show()"
   ]
  }
 ],
 "metadata": {
  "kernelspec": {
   "display_name": "Python 3",
   "language": "python",
   "name": "python3"
  },
  "language_info": {
   "codemirror_mode": {
    "name": "ipython",
    "version": 3
   },
   "file_extension": ".py",
   "mimetype": "text/x-python",
   "name": "python",
   "nbconvert_exporter": "python",
   "pygments_lexer": "ipython3",
   "version": "3.13.0"
  }
 },
 "nbformat": 4,
 "nbformat_minor": 5
}
