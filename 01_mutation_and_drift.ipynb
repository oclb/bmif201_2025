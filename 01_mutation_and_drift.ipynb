{
 "cells": [
  {
   "cell_type": "markdown",
   "id": "3d39ee3fd8cef8b4",
   "metadata": {
    "collapsed": false
   },
   "source": [
    "<h2>BMIF201 Lecture 1 in-class problem set instructions</h2>\n",
    "\n",
    "This ungraded in-class problemset is intended to be completed in assigned groups of 2-3 in class. All members of each group should type their own solutions, but the solutions can be exactly identical. Feel free to ask other groups, the TAs, or the professor for assistance. It is OK if you do not complete it.\n",
    "\n",
    "None of the questions should require computations that take more than a few seconds, although it's OK if they take longer. If you find yourself waiting for a solution  to run, try using smaller simulation parameters."
   ]
  },
  {
   "cell_type": "markdown",
   "id": "ae1ca297",
   "metadata": {},
   "source": [
    "<h5> Problem 1 </h5>\n",
    "\n",
    "Implement the lines `#TODO` in the code block below. Check that the assertion passes in the following code block."
   ]
  },
  {
   "cell_type": "code",
   "execution_count": null,
   "id": "initial_id",
   "metadata": {
    "collapsed": true
   },
   "outputs": [],
   "source": [
    "import numpy as np\n",
    "\n",
    "class WrightFisher:\n",
    "    mu: float # symmetric mutation rate, for every site\n",
    "    N: int # number of haplotypes is 2N\n",
    "\n",
    "    # This is the function that is called when you write: model = WrightFisher(...)\n",
    "    def __init__(self, mu: float, N: int):\n",
    "        self.mu = mu\n",
    "        self.N = N\n",
    "\n",
    "    def next_generation(self, allele_frequencies: np.ndarray) -> np.ndarray:\n",
    "        \"\"\"\n",
    "        :param allele_frequencies: array of allele frequencies in generation n\n",
    "        :return: array of allele frequencies in generation n+1\n",
    "        \"\"\"\n",
    "\n",
    "        # TODO: how many carriers before the effect of mutation?\n",
    "        # use np.random.binomial(N: int or array, p: float or array)\n",
    "        num_carriers_before = np.random.binomial(2*self.N, allele_frequencies)\n",
    "\n",
    "        assert num_carriers_before.shape == allele_frequencies.shape\n",
    "\n",
    "        # TODO: how many carriers mutate to a non-carrier?\n",
    "        num_a_to_A = \n",
    "\n",
    "        # TODO: how many non-carriers mutate to a carrier? (use np.random.binomial again)\n",
    "        num_A_to_a = \n",
    "\n",
    "        # TODO: how many carriers after the effect of mutation?\n",
    "        num_carriers = \n",
    "\n",
    "        assert num_carriers.shape == allele_frequencies.shape\n",
    "        assert np.all(num_carriers >= 0)\n",
    "        assert np.all(num_carriers <= 2 * self.N)\n",
    "\n",
    "        return num_carriers / (2 * self.N)\n",
    "\n",
    "    def until_fixation(self, initial_allele_frequencies: np.ndarray) -> tuple[np.ndarray, np.ndarray]:\n",
    "        \"\"\"\n",
    "        :param initial_allele_frequencies: initial state\n",
    "        :return: final allele frequencies (0/1-valued), time to fixation or loss\n",
    "        \"\"\"\n",
    "\n",
    "        allele_frequencies = initial_allele_frequencies.copy()  # avoids modifying input array\n",
    "        variants = np.where(allele_frequencies * (1-allele_frequencies) > 0)[0]  # sites not yet fixed or lost\n",
    "        time_to_fixation_or_loss = np.zeros_like(allele_frequencies, dtype=int)\n",
    "\n",
    "        generations = 0\n",
    "        while len(variants) > 0:\n",
    "            generations += 1\n",
    "            allele_frequencies[variants] = self.next_generation(allele_frequencies[variants])\n",
    "            newly_fixed_variants = (allele_frequencies[variants] * (1-allele_frequencies[variants]) == 0)\n",
    "            time_to_fixation_or_loss[variants[newly_fixed_variants]] = generations\n",
    "            variants = variants[~newly_fixed_variants]\n",
    "\n",
    "        assert np.all(allele_frequencies * (1-allele_frequencies) == 0)\n",
    "\n",
    "        return allele_frequencies, time_to_fixation_or_loss\n"
   ]
  },
  {
   "cell_type": "code",
   "execution_count": null,
   "id": "84b6a9aeb0e04434",
   "metadata": {
    "collapsed": false
   },
   "outputs": [],
   "source": [
    "num_sites = 5\n",
    "model = WrightFisher(mu=1e-1, N=100)\n",
    "\n",
    "np.random.seed(123)\n",
    "generation_zero_frequency = np.array([0.1, 0.2, 0.3, 0.4, 0.5]) \n",
    "generation_one_frequency = model.next_generation(generation_zero_frequency)\n",
    "assert np.all(generation_one_frequency == np.array([0.19, 0.3, 0.355, 0.44, 0.49 ])), \\\n",
    "    f\"Frequencies were not as expected: {generation_one_frequency}\"\n",
    "print(\"Success!\")"
   ]
  },
  {
   "cell_type": "markdown",
   "id": "55e774e4dfc1fcc5",
   "metadata": {
    "collapsed": false
   },
   "source": [
    "<h5> Problem 2 </h5>\n",
    "\n",
    "Recall that the probability of fixation for a neutral allele with starting frequency $p$ is $u(p)=p$. Using the function WrightFisher.until_fixation, verify this for the provided values of $N$ and $p$ by plotting $u(p)$ vs. $p$. A plotting script is provided."
   ]
  },
  {
   "cell_type": "code",
   "execution_count": null,
   "id": "715da15a00280c66",
   "metadata": {
    "collapsed": false
   },
   "outputs": [],
   "source": [
    "num_sites = 1_000\n",
    "mutation_rate = 0\n",
    "population_size = 100\n",
    "starting_frequency = np.arange(1,10) / 10\n",
    "\n",
    "model = WrightFisher(mutation_rate, population_size)\n",
    "\n",
    "simulated_fixation_probability = []\n",
    "for p in starting_frequency:\n",
    "    # TODO\n"
   ]
  },
  {
   "cell_type": "code",
   "execution_count": null,
   "id": "b730cfbe2063bf99",
   "metadata": {},
   "outputs": [],
   "source": [
    "import matplotlib.pyplot as plt\n",
    "plt.figure(figsize=(10, 6))\n",
    "plt.plot(starting_frequency, starting_frequency)\n",
    "plt.scatter(starting_frequency, simulated_fixation_probability, color=\"red\")\n",
    "plt.legend([\"u=p\", \"Simulated\"])\n",
    "\n",
    "plt.xlabel('Starting frequency', fontsize=14)\n",
    "plt.ylabel('Fixation probability', fontsize=14)\n",
    "plt.show()"
   ]
  },
  {
   "cell_type": "markdown",
   "id": "b735c6bb7a080dde",
   "metadata": {
    "collapsed": false
   },
   "source": [
    "Recall that the time to fixation or for a rare allele is approximately $4N$ generations. Verify this for the parameters below, and plot a histogram of the fixation time. \n",
    "\n"
   ]
  },
  {
   "cell_type": "code",
   "execution_count": null,
   "id": "536b6e9013f2e986",
   "metadata": {
    "collapsed": false
   },
   "outputs": [],
   "source": [
    "num_sites = 100_000\n",
    "mutation_rate = 0\n",
    "population_size = 100\n",
    "starting_frequency = 1 / (2 * population_size)\n",
    "\n",
    "model = WrightFisher(mutation_rate, population_size)\n",
    "allele_frequencies, stopping_times = # TODO\n",
    "fixation_times = # TODO\n",
    "\n",
    "print(f\"Number of fixed sites: {np.sum(allele_frequencies)}\")\n",
    "print(f\"Mean fixation time: {np.mean(fixation_times)}\")"
   ]
  },
  {
   "cell_type": "code",
   "execution_count": null,
   "id": "bc09d7683d3ae34f",
   "metadata": {
    "collapsed": false
   },
   "outputs": [],
   "source": [
    "plt.figure(figsize=(10, 6))\n",
    "plt.hist(fixation_times, bins=30, color='skyblue', edgecolor='black')\n",
    "\n",
    "plt.xlabel('Fixation Time (generations)', fontsize=14)\n",
    "plt.xlim(left=0)\n",
    "plt.ylabel('Count', fontsize=14)\n",
    "\n",
    "plt.show()"
   ]
  },
  {
   "cell_type": "markdown",
   "id": "7f66ff54f5510876",
   "metadata": {
    "collapsed": false
   },
   "source": [
    "<h5> Problem 3 </h5>\n",
    "\n",
    "In lecture we derived the mean heterozygosity at equilibrium:\n",
    "$$E(2p(1-p))\\approx 4N\\mu$$\n",
    "Show that with a population size of 100, the approximation is good for small $\\mu$. Find the approximate value of $\\mu$ at which the approximation breaks down. Hint: >N generations are required to reach equilibrium."
   ]
  },
  {
   "cell_type": "code",
   "execution_count": null,
   "id": "d3ae447bb617b14b",
   "metadata": {
    "collapsed": false
   },
   "outputs": [],
   "source": [
    "num_sites = 1_000\n",
    "N = 100\n",
    "mutation_rate = np.array([0.0002, 0.0005, 0.001, 0.002, 0.005, 0.01, 0.02, 0.05, 0.1, 1, 10]) / population_size\n",
    "frequency = np.zeros(num_sites)\n",
    "mean_heterozygosity = []\n",
    "for mu in mutation_rate:\n",
    "    # TODO"
   ]
  },
  {
   "cell_type": "code",
   "execution_count": null,
   "id": "20f0bb35",
   "metadata": {},
   "outputs": [],
   "source": [
    "import matplotlib.pyplot as plt\n",
    "plt.figure(figsize=(10, 6))\n",
    "theta = 4 * np.asarray(mutation_rate) * N\n",
    "plt.plot(mutation_rate, theta)\n",
    "plt.scatter(mutation_rate, mean_heterozygosity, color=\"red\")\n",
    "plt.legend([\"4*N*mu\", \"Simulated\"])\n",
    "plt.xscale(\"log\")\n",
    "plt.yscale(\"log\")\n",
    "plt.xlabel('Mutation rate', fontsize=14)\n",
    "plt.ylabel('Mean heterozygosity', fontsize=14)\n",
    "plt.show()"
   ]
  },
  {
   "cell_type": "markdown",
   "id": "11de4c2789d9b4ee",
   "metadata": {
    "collapsed": false
   },
   "source": [
    "<h5> Problem 4 </h5>\n",
    "\n",
    "The number of segregating sites in a population is the number of sites at which any two individuals differ. In a large population, the number of segregating sites grows, and most are rare. Calculate the mean heterozygosity *of segregating sites*, $E(p(1-p)|0<p<1)$, in a population of size $N\\in \\{10, 100, 1000\\}$, with $0 < \\mu << 1/N$. Compare with the mean heterozygosity across all sites. Discuss with your partner: if the mean heterozygosity increases with $N$, why does the mean heterozygosity of segregating sites decrease? (Hint: see optional Problem 5 below).\n"
   ]
  },
  {
   "cell_type": "code",
   "execution_count": null,
   "id": "8122da7f38559242",
   "metadata": {
    "collapsed": false
   },
   "outputs": [],
   "source": [
    "num_sites = 10_000\n",
    "mutation_rate = 0.0001 # positive number << 1 / population_size\n",
    "population_size_array = [10, 100, 1000]\n",
    "mean_heterozygosity_segregating_sites = []\n",
    "for population_size in population_size_array:\n",
    "    # TODO"
   ]
  },
  {
   "cell_type": "markdown",
   "id": "2faa3e068e464c1b",
   "metadata": {
    "collapsed": false
   },
   "source": [
    "<h3>Optional problems</h3>\n",
    "\n",
    "If you finish the problems above early, please work on the following problems with your partner. These are discussion questions, so there is no need to write down your solution; but of course, feel free to use simulations.\n",
    "\n",
    "<h5>Problem 5</h5>\n",
    "\n",
    "Discuss with your partner: suppose that in a population of size $N$, with $\\mu<<1/N$, you sample $S<N$ haplotypes without replacement and calculate the mean heterozygosity. Will it depend upon $N$, upon $S$, or both? \n",
    "\n",
    "<h5>Problem 6</h5>\n",
    "\n",
    "Discuss with your partner: as the study size $S$ increases, approximately how many segregating sites in total will be observed? What fraction of sites will be singletons? Do these quantities depend on $N$?"
   ]
  }
 ],
 "metadata": {
  "kernelspec": {
   "display_name": ".venv",
   "language": "python",
   "name": "python3"
  },
  "language_info": {
   "codemirror_mode": {
    "name": "ipython",
    "version": 3
   },
   "file_extension": ".py",
   "mimetype": "text/x-python",
   "name": "python",
   "nbconvert_exporter": "python",
   "pygments_lexer": "ipython3",
   "version": "3.13.0"
  }
 },
 "nbformat": 4,
 "nbformat_minor": 5
}
