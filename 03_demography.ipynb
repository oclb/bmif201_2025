{
 "cells": [
  {
   "cell_type": "markdown",
   "id": "45699b44eb0cf1a1",
   "metadata": {},
   "source": [
    "<h2>BMIF201 Lecture 3 in-class problem set instructions</h2>\n",
    "\n",
    "Open lecture03_wright_fisher.py and familiarize yourself with the modifications that have been made. There are no changes that you need to make."
   ]
  },
  {
   "cell_type": "code",
   "execution_count": null,
   "id": "9fe48c97b6508ecb",
   "metadata": {},
   "outputs": [],
   "source": [
    "import numpy as np\n",
    "\n",
    "class WrightFisherMigration:\n",
    "    mu: float\n",
    "    N: np.ndarray\n",
    "    migration_rate: np.ndarray # square matrix whose (i,j) entry is the rate from j to i; defaults to the identity\n",
    "\n",
    "\n",
    "    # This is the function that is called when you write: model = WrightFisherMigration(...)\n",
    "    def __init__(self, mu: float, N: np.ndarray, migration_rate: np.ndarray = None):\n",
    "        if migration_rate is None:\n",
    "            migration_rate = np.eye(len(N))\n",
    "        N = np.array(N)\n",
    "        migration_rate = np.array(migration_rate)\n",
    "        self.mu = mu\n",
    "        self.N = N\n",
    "        self.migration_rate = migration_rate\n",
    "        self._check_migration_rate_is_valid()\n",
    "\n",
    "    @property\n",
    "    def number_of_populations(self) -> int:\n",
    "        return len(self.N)\n",
    "\n",
    "    def next_generation(self, allele_frequencies: np.ndarray) -> np.ndarray:\n",
    "        \"\"\"\n",
    "        :param allele_frequencies: previous generation allele frequencies, as a number-of-populations by number-of-sites array\n",
    "        :return: array of allele frequencies in the next generation\n",
    "        \"\"\"\n",
    "        if allele_frequencies.ndim == 1:\n",
    "            allele_frequencies = allele_frequencies[np.newaxis, :]\n",
    "\n",
    "        expected_frequency = allele_frequencies.copy()  # avoid modifying input array\n",
    "\n",
    "        # Effect of migration\n",
    "        expected_frequency = self.migration_rate @ expected_frequency  # matrix multiplication\n",
    "\n",
    "        # Effect of mutation\n",
    "        expected_frequency = (expected_frequency * (1 - self.mu) +\n",
    "                              (1 - expected_frequency) * self.mu)\n",
    "\n",
    "        # Effect of drift\n",
    "        result = np.zeros_like(expected_frequency)\n",
    "        for i in range(self.number_of_populations):\n",
    "            binomial_samples = np.random.binomial(2 * self.N[i], expected_frequency[i, :])\n",
    "            result[i, :] = binomial_samples / (2 * self.N[i])\n",
    "\n",
    "        return result\n",
    "\n",
    "    def until_fixation(self, initial_allele_frequencies: np.ndarray) -> tuple[np.ndarray, np.ndarray]:\n",
    "        \"\"\"\n",
    "        :param initial_allele_frequencies: initial state\n",
    "        :return: final allele frequencies (0/1-valued), time to fixation or loss\n",
    "        \"\"\"\n",
    "\n",
    "        allele_frequencies = initial_allele_frequencies.copy()  # avoids modifying input array\n",
    "        variants = np.where(allele_frequencies * (1-allele_frequencies) > 0)[0]  # sites not yet fixed or lost\n",
    "        time_to_fixation_or_loss = np.zeros_like(allele_frequencies, dtype=int)\n",
    "\n",
    "        generations = 0\n",
    "        while len(variants) > 0:\n",
    "            generations += 1\n",
    "            allele_frequencies[variants] = self.next_generation(allele_frequencies[variants])\n",
    "            newly_fixed_variants = (allele_frequencies[variants] * (1-allele_frequencies[variants]) == 0)\n",
    "            time_to_fixation_or_loss[variants[newly_fixed_variants]] = generations\n",
    "            variants = variants[~newly_fixed_variants]\n",
    "\n",
    "        assert np.all(allele_frequencies * (1-allele_frequencies) == 0)\n",
    "\n",
    "        return allele_frequencies, time_to_fixation_or_loss\n",
    "\n",
    "    def _check_migration_rate_is_valid(self) -> None:\n",
    "        \"\"\"\n",
    "        Checks that the migration rate is a square matrix of the right size with row sums equal to 1\n",
    "        \"\"\"\n",
    "        try:\n",
    "            assert self.migration_rate.shape == (self.number_of_populations, self.number_of_populations)\n",
    "        except:\n",
    "            raise ValueError(\"Migration rate matrix must be a square matrix of size equal to the number of populations\")\n",
    "\n",
    "        row_sums = np.sum(self.migration_rate, axis=1)\n",
    "        if not np.allclose(row_sums, 1):\n",
    "            raise ValueError(\"Migration rate matrix should have row sums equal to 1\")\n",
    "\n",
    "        if not np.all(self.migration_rate >= 0):\n",
    "            raise ValueError(\"Migration rate matrix have non-negative entries\")"
   ]
  },
  {
   "cell_type": "markdown",
   "id": "42f93698c62bccb4",
   "metadata": {},
   "source": [
    "<h5>Problem 1</h5>\n",
    "Implement the function below to calculate $F_{ST}$ between a pair of populations."
   ]
  },
  {
   "cell_type": "code",
   "execution_count": 2,
   "id": "6161a02bac60fcc6",
   "metadata": {},
   "outputs": [
    {
     "ename": "TypeError",
     "evalue": "unsupported operand type(s) for /: 'ellipsis' and 'int'",
     "output_type": "error",
     "traceback": [
      "\u001b[31m---------------------------------------------------------------------------\u001b[39m",
      "\u001b[31mTypeError\u001b[39m                                 Traceback (most recent call last)",
      "\u001b[36mCell\u001b[39m\u001b[36m \u001b[39m\u001b[32mIn[2]\u001b[39m\u001b[32m, line 6\u001b[39m\n\u001b[32m      3\u001b[39m     denominator = ... \u001b[38;5;66;03m# TODO\u001b[39;00m\n\u001b[32m      4\u001b[39m     \u001b[38;5;28;01mreturn\u001b[39;00m np.mean(numerator) / np.mean(denominator) \u001b[38;5;66;03m# ratio of means, not mean of ratios\u001b[39;00m\n\u001b[32m----> \u001b[39m\u001b[32m6\u001b[39m \u001b[38;5;28;01massert\u001b[39;00m np.isclose(\u001b[43mfixation_index\u001b[49m\u001b[43m(\u001b[49m\u001b[43mnp\u001b[49m\u001b[43m.\u001b[49m\u001b[43marray\u001b[49m\u001b[43m(\u001b[49m\u001b[43m[\u001b[49m\u001b[32;43m0.1\u001b[39;49m\u001b[43m,\u001b[49m\u001b[32;43m0.2\u001b[39;49m\u001b[43m,\u001b[49m\u001b[32;43m0.3\u001b[39;49m\u001b[43m]\u001b[49m\u001b[43m)\u001b[49m\u001b[43m,\u001b[49m\u001b[43m \u001b[49m\u001b[43mnp\u001b[49m\u001b[43m.\u001b[49m\u001b[43marray\u001b[49m\u001b[43m(\u001b[49m\u001b[43m[\u001b[49m\u001b[32;43m0.2\u001b[39;49m\u001b[43m,\u001b[49m\u001b[43m \u001b[49m\u001b[32;43m0.1\u001b[39;49m\u001b[43m,\u001b[49m\u001b[43m \u001b[49m\u001b[32;43m0.2\u001b[39;49m\u001b[43m]\u001b[49m\u001b[43m)\u001b[49m\u001b[43m)\u001b[49m, \u001b[32m0.01694915254237288\u001b[39m)\n",
      "\u001b[36mCell\u001b[39m\u001b[36m \u001b[39m\u001b[32mIn[2]\u001b[39m\u001b[32m, line 4\u001b[39m, in \u001b[36mfixation_index\u001b[39m\u001b[34m(allele_frequencies_1, allele_frequencies_2)\u001b[39m\n\u001b[32m      2\u001b[39m numerator = ... \u001b[38;5;66;03m# TODO\u001b[39;00m\n\u001b[32m      3\u001b[39m denominator = ... \u001b[38;5;66;03m# TODO\u001b[39;00m\n\u001b[32m----> \u001b[39m\u001b[32m4\u001b[39m \u001b[38;5;28;01mreturn\u001b[39;00m \u001b[43mnp\u001b[49m\u001b[43m.\u001b[49m\u001b[43mmean\u001b[49m\u001b[43m(\u001b[49m\u001b[43mnumerator\u001b[49m\u001b[43m)\u001b[49m / np.mean(denominator)\n",
      "\u001b[36mFile \u001b[39m\u001b[32m~/Dropbox/GitHub/bmif201_2025/.venv/lib/python3.13/site-packages/numpy/_core/fromnumeric.py:3860\u001b[39m, in \u001b[36mmean\u001b[39m\u001b[34m(a, axis, dtype, out, keepdims, where)\u001b[39m\n\u001b[32m   3857\u001b[39m     \u001b[38;5;28;01melse\u001b[39;00m:\n\u001b[32m   3858\u001b[39m         \u001b[38;5;28;01mreturn\u001b[39;00m mean(axis=axis, dtype=dtype, out=out, **kwargs)\n\u001b[32m-> \u001b[39m\u001b[32m3860\u001b[39m \u001b[38;5;28;01mreturn\u001b[39;00m \u001b[43m_methods\u001b[49m\u001b[43m.\u001b[49m\u001b[43m_mean\u001b[49m\u001b[43m(\u001b[49m\u001b[43ma\u001b[49m\u001b[43m,\u001b[49m\u001b[43m \u001b[49m\u001b[43maxis\u001b[49m\u001b[43m=\u001b[49m\u001b[43maxis\u001b[49m\u001b[43m,\u001b[49m\u001b[43m \u001b[49m\u001b[43mdtype\u001b[49m\u001b[43m=\u001b[49m\u001b[43mdtype\u001b[49m\u001b[43m,\u001b[49m\n\u001b[32m   3861\u001b[39m \u001b[43m                      \u001b[49m\u001b[43mout\u001b[49m\u001b[43m=\u001b[49m\u001b[43mout\u001b[49m\u001b[43m,\u001b[49m\u001b[43m \u001b[49m\u001b[43m*\u001b[49m\u001b[43m*\u001b[49m\u001b[43mkwargs\u001b[49m\u001b[43m)\u001b[49m\n",
      "\u001b[36mFile \u001b[39m\u001b[32m~/Dropbox/GitHub/bmif201_2025/.venv/lib/python3.13/site-packages/numpy/_core/_methods.py:146\u001b[39m, in \u001b[36m_mean\u001b[39m\u001b[34m(a, axis, dtype, out, keepdims, where)\u001b[39m\n\u001b[32m    144\u001b[39m         ret = ret.dtype.type(ret / rcount)\n\u001b[32m    145\u001b[39m \u001b[38;5;28;01melse\u001b[39;00m:\n\u001b[32m--> \u001b[39m\u001b[32m146\u001b[39m     ret = \u001b[43mret\u001b[49m\u001b[43m \u001b[49m\u001b[43m/\u001b[49m\u001b[43m \u001b[49m\u001b[43mrcount\u001b[49m\n\u001b[32m    148\u001b[39m \u001b[38;5;28;01mreturn\u001b[39;00m ret\n",
      "\u001b[31mTypeError\u001b[39m: unsupported operand type(s) for /: 'ellipsis' and 'int'"
     ]
    }
   ],
   "source": [
    "def fixation_index(allele_frequencies_1: np.ndarray, allele_frequencies_2: np.ndarray) -> float:\n",
    "    numerator = ... # TODO\n",
    "    denominator = ... # TODO\n",
    "    return np.mean(numerator) / np.mean(denominator) # ratio of means, not mean of ratios\n",
    "\n",
    "assert np.isclose(fixation_index(np.array([0.1,0.2,0.3]), np.array([0.2, 0.1, 0.2])), 0.01694915254237288)"
   ]
  },
  {
   "cell_type": "markdown",
   "id": "c7a29a0000f5b1d2",
   "metadata": {},
   "source": [
    "<h5>Problem 2</h5>\n",
    "\n",
    "Simulate a source population at mutation-drift balance, and then simulate two populations with different $N$ diverging from it for $T$ generations, without migration. At each generation, calculate $F_{ST}$ between each pair of populations. Plot these three values of $F_{ST}$ over time. Discuss with your partner: what do you notice about the three lines? (Hint: what are their pairwise sums?)"
   ]
  },
  {
   "cell_type": "code",
   "execution_count": null,
   "id": "2ef1354ae6e58df5",
   "metadata": {},
   "outputs": [],
   "source": [
    "num_sites = 1_000\n",
    "N_source = [100] # model now expects a list or array of values for N\n",
    "N_derived = [100, 400]\n",
    "mutation_rate = 0.001\n",
    "source_generations = 10 * N_source[0]\n",
    "divergence_generations = 50\n",
    "\n",
    "source_frequencies = np.ones(num_sites) / N_source\n",
    "source_model = ... # TODO call WrightFisherMigration()\n",
    "for generation in range(source_generations):\n",
    "    source_frequencies = ... # TODO\n",
    "\n",
    "divergence_frequencies = np.ones((2,1)) @ source_frequencies # two identical rows\n",
    "divergence_model = ... # TODO\n",
    "FST_source_derived_1 = np.zeros(divergence_generations)\n",
    "FST_source_derived_2 = np.zeros(divergence_generations)\n",
    "FST_derived_1_derived_2 = np.zeros(divergence_generations)\n",
    "for generation in range(divergence_generations):\n",
    "    divergence_frequencies = ... # TODO\n",
    "    FST_source_derived_1[generation] = ... # TODO\n",
    "    FST_source_derived_2[generation] = ... # TODO\n",
    "    FST_derived_1_derived_2[generation] = ... # TODO\n",
    "    "
   ]
  },
  {
   "cell_type": "code",
   "execution_count": null,
   "id": "113bb5f8ae39f73f",
   "metadata": {},
   "outputs": [],
   "source": [
    "import matplotlib.pyplot as plt\n",
    "plt.figure(figsize=(10, 6))\n",
    "plt.plot(range(1, 1+divergence_generations), FST_source_derived_1)\n",
    "plt.plot(range(1, 1+divergence_generations), FST_source_derived_2)\n",
    "plt.plot(range(1, 1+divergence_generations), FST_derived_1_derived_2)\n",
    "# Add other things to the plot if you wish\n",
    "\n",
    "plt.xlabel('Generations of divergence', fontsize=14)\n",
    "plt.ylabel('Fixation index', fontsize=14)\n",
    "plt.legend([\"Source vs derived 1\", \"Source vs derived 2\", \"Derived 1 vs derived 2\"])\n",
    "\n",
    "plt.show()"
   ]
  },
  {
   "cell_type": "markdown",
   "id": "4056924ab86044ec",
   "metadata": {},
   "source": [
    "\n",
    "<h5>Problem 3</h5>\n",
    "\n",
    "Add a low rate of migration between the two derived populations, and recreate your plot. Discuss with your partner: what is different now, and why? Vary the size of each derived population; what changes, and why?"
   ]
  },
  {
   "cell_type": "code",
   "execution_count": null,
   "id": "9b0f95f1fd104aeb",
   "metadata": {},
   "outputs": [],
   "source": [
    "migration_rate = ... # TODO\n",
    "\n",
    "# This matrix results in symmetric migration with the specified rate; feel free to modify\n",
    "migration_rate_matrix = np.array([[1 - migration_rate, migration_rate],[migration_rate, 1 - migration_rate]])\n",
    "\n",
    "#  TODO"
   ]
  },
  {
   "cell_type": "markdown",
   "id": "53ffcc81c94ef209",
   "metadata": {},
   "source": [
    "<h5>Optional Problem 4</h5>\n",
    "\n",
    "Simulate 10 generations of divergence between two populations with a vector of starting allele frequencies all equal to 0.1. After 10 generations (i.e., fewer than $N$), make a histogram of $p_1-p_2$. What is its distribution? Discuss with your partner: why is this the distribution that you get? Do you expect that you will get the same distribution after $N$ generations or more?\n"
   ]
  },
  {
   "cell_type": "code",
   "execution_count": null,
   "id": "5f221974bbbe3aa6",
   "metadata": {},
   "outputs": [],
   "source": []
  }
 ],
 "metadata": {
  "kernelspec": {
   "display_name": ".venv",
   "language": "python",
   "name": "python3"
  },
  "language_info": {
   "codemirror_mode": {
    "name": "ipython",
    "version": 3
   },
   "file_extension": ".py",
   "mimetype": "text/x-python",
   "name": "python",
   "nbconvert_exporter": "python",
   "pygments_lexer": "ipython3",
   "version": "3.13.0"
  }
 },
 "nbformat": 4,
 "nbformat_minor": 5
}
