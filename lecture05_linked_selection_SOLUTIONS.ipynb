{
 "cells": [
  {
   "cell_type": "markdown",
   "id": "84ad12e97578c6f8",
   "metadata": {},
   "source": [
    "<h2>BMIF201 Lecture 5 in-class problem set instructions</h2>\n",
    "\n",
    "This problem set investigates the ways in which selection interacts with linkage. "
   ]
  },
  {
   "cell_type": "markdown",
   "id": "94f4db4dead87551",
   "metadata": {},
   "source": [
    "<h5> Problem 1 </h5>\n",
    "\n",
    "Write a Wright-Fisher simulator with two partially linked loci and many possible alleles at each locus. To do this, you will need to simulate individual haplotypes instead of just allele frequencies. Use the template provided.\n",
    " "
   ]
  },
  {
   "cell_type": "code",
   "execution_count": null,
   "id": "4092063d21eb5472",
   "metadata": {
    "ExecuteTime": {
     "end_time": "2024-10-09T18:02:59.293887Z",
     "start_time": "2024-10-09T18:02:59.292360Z"
    }
   },
   "outputs": [],
   "source": [
    "import numpy as np\n",
    "\n",
    "class WFTwoLoci:\n",
    "    haplotypes: np.ndarray # size (2N, num_sites)\n",
    "    fitness: np.ndarray # size 2N\n",
    "    s: list[float] # length num_sites\n",
    "    mu: list[float] # length num_sites\\\n",
    "    allele_counter: int \n",
    "    \n",
    "    def __init__(self, N: int, s: list[float], mu: list[float]):\n",
    "        self.s = s\n",
    "        self.mu = mu\n",
    "        self.haplotypes = np.zeros((2*N, self.num_sites), dtype=np.int64)\n",
    "        self.fitness = np.ones(2*N, dtype=np.float64) / (2*N)\n",
    "        self.allele_counter = 0\n",
    "    \n",
    "    @property\n",
    "    def num_sites(self) -> int:\n",
    "        return len(self.s)\n",
    "    \n",
    "    @property\n",
    "    def N(self) -> int:\n",
    "        return len(self.haplotypes) // 2\n",
    "    \n",
    "    def add_mutations_at_site(self, site: int):\n",
    "        num_mutations = np.random.binomial(n=2*self.N, p=self.mu[site])\n",
    "        for _ in range(num_mutations):\n",
    "            mutant = np.random.randint(2*self.N)\n",
    "            self.haplotypes[mutant, site] = self.allele_counter\n",
    "            self.allele_counter += 1\n",
    "            self.fitness[mutant] *= 1 + self.s[site]\n",
    "        self.fitness = self.fitness / np.sum(self.fitness)\n",
    "\n",
    "    def next_generation(self):\n",
    "        parents = np.random.choice(np.arange(2*self.N), \n",
    "                                    size=2*self.N,\n",
    "                                    p=self.fitness,\n",
    "                                    replace=True)\n",
    "        self.haplotypes = self.haplotypes[parents]\n",
    "        self.fitness = self.fitness[parents]\n",
    "        for site in range(self.num_sites):\n",
    "            self.add_mutations_at_site(site)\n",
    "    \n",
    "    def heterozygosity_at_site(self, site: int) -> float:\n",
    "        _, counts = np.unique(self.haplotypes[:, site], return_counts=True)\n",
    "        frequencies = counts / (2*self.N)\n",
    "        return 1 - np.sum(frequencies**2)\n",
    "        "
   ]
  },
  {
   "cell_type": "markdown",
   "id": "a9dfd7a09bc75e7b",
   "metadata": {},
   "source": [
    "<h5>Problem 2</h5>\n",
    "\n",
    "Simulate background selection in a model with two sites, where one of the sites has a high mutation rate and a negative selection coefficient and the other has a low mutation rate and a selection coefficient of zero. Compute the average heterozygosity of the neutral site, with and without background selection. What do you observe? Vary the selection coefficient of the selected site; is there a monotonic relationship? Discuss with your partner."
   ]
  },
  {
   "cell_type": "code",
   "execution_count": null,
   "id": "ebae8995",
   "metadata": {},
   "outputs": [
    {
     "name": "stdout",
     "output_type": "stream",
     "text": [
      "4Nmu/(1+4Nmu): 0.28571428571428575\n",
      "s=0: het=0.2636638949999997\n",
      "s=-0.001: het=0.29069494999999845\n",
      "s=-0.01: het=0.21908217000000055\n",
      "s=-0.1: het=0.1403115399999942\n",
      "s=-0.9: het=0.2568841750000044\n"
     ]
    }
   ],
   "source": [
    "N=100\n",
    "mu_neutral=.001\n",
    "mu_nonneutral=0.1\n",
    "s_vals = [0, -0.001, -0.01, -0.1, -.9]\n",
    "generations=100*N\n",
    "linked_het = []\n",
    "print(f\"4Nmu/(1+4Nmu): {4*N*mu_neutral/(1+4*N*mu_neutral)}\")\n",
    "\n",
    "for s in s_vals:\n",
    "    model = WFTwoLoci(N=N, s=[0,s], mu=[mu_neutral, mu_nonneutral])\n",
    "    \n",
    "        \n",
    "    for i in range(N): # burn-in\n",
    "        model.next_generation()\n",
    "        \n",
    "    het = 0\n",
    "    for i in range(generations):\n",
    "        model.next_generation()\n",
    "        het += model.heterozygosity_at_site(0)\n",
    "    \n",
    "    het /= generations\n",
    "    linked_het.append(het)\n",
    "    print(f\"s={s}: het={het}\")\n"
   ]
  },
  {
   "cell_type": "markdown",
   "id": "ab6dc93c",
   "metadata": {},
   "source": [
    "<h5>Problem 3</h5>\n",
    "\n",
    "To see the effect of selective sweeps, compare a simulation with s=0 vs. one with s>0, and plot the heterozygosity over time. Simulate a low mutation rate for the positively selected locus; you should be able to see abrupt dips in heterozygosity at the time of each sweep."
   ]
  },
  {
   "cell_type": "code",
   "execution_count": null,
   "id": "832c2f0a33b2cf36",
   "metadata": {},
   "outputs": [
    {
     "name": "stdout",
     "output_type": "stream",
     "text": [
      "Neutral site: 0.740750005\n",
      "Selected site: 0.034077659749999996\n",
      "Linked site: 0.49807340249999993\n"
     ]
    }
   ],
   "source": [
    "N=1000\n",
    "mu_neutral=.001\n",
    "mu_nonneutral=0.005 / N\n",
    "s=.1\n",
    "generations=5*N\n",
    "neutral_model = WFTwoLoci(N=N, s=[0,0], mu=[mu_neutral, mu_nonneutral])\n",
    "nonneutral_model = WFTwoLoci(N=N, s=[0,s], mu=[mu_neutral, mu_nonneutral])\n",
    "\n",
    "neutral_het = np.zeros(generations)\n",
    "for i in range(generations):\n",
    "    neutral_model.next_generation()\n",
    "    neutral_het[i] = neutral_model.heterozygosity_at_site(0)\n",
    "print(f\"Neutral site: {np.mean(neutral_het[N:])}\")\n",
    "\n",
    "linked_het = np.zeros(generations)\n",
    "nonneutral_het = np.zeros(generations)\n",
    "for i in range(generations):\n",
    "    nonneutral_model.next_generation()\n",
    "    linked_het[i] = nonneutral_model.heterozygosity_at_site(0)\n",
    "    nonneutral_het[i] = nonneutral_model.heterozygosity_at_site(1)\n",
    "\n",
    "print(f\"Selected site: {np.mean(nonneutral_het[N:])}\")\n",
    "print(f\"Linked site: {np.mean(linked_het[N:])}\")\n"
   ]
  },
  {
   "cell_type": "code",
   "execution_count": 43,
   "id": "8c167e62",
   "metadata": {},
   "outputs": [
    {
     "data": {
      "text/plain": [
       "[<matplotlib.lines.Line2D at 0x131f06350>]"
      ]
     },
     "execution_count": 43,
     "metadata": {},
     "output_type": "execute_result"
    },
    {
     "data": {
      "image/png": "[encoded data removed]",
      "text/plain": [
       "<Figure size 640x480 with 1 Axes>"
      ]
     },
     "metadata": {},
     "output_type": "display_data"
    }
   ],
   "source": [
    "import matplotlib.pyplot as plt\n",
    "plt.plot(nonneutral_het[N:], color='red', label='Selected site')\n",
    "plt.plot(linked_het[N:], color='blue', label='Linked site')"
   ]
  },
  {
   "cell_type": "markdown",
   "id": "c43ced39",
   "metadata": {},
   "source": [
    "<h5>Problem 4</h5>\n",
    "\n",
    "Discuss with your partner: suppose you were given sequencing data for a locus that had putatively undergone a recent selective sweep. How would you distinguish this hypothesis from the hypothesis that this locus was neutral? How would you distinguish it from the hypothesis that the locus was subject to background selection?"
   ]
  }
 ],
 "metadata": {
  "kernelspec": {
   "display_name": ".venv",
   "language": "python",
   "name": "python3"
  },
  "language_info": {
   "codemirror_mode": {
    "name": "ipython",
    "version": 3
   },
   "file_extension": ".py",
   "mimetype": "text/x-python",
   "name": "python",
   "nbconvert_exporter": "python",
   "pygments_lexer": "ipython3",
   "version": "3.13.0"
  }
 },
 "nbformat": 4,
 "nbformat_minor": 5
}
